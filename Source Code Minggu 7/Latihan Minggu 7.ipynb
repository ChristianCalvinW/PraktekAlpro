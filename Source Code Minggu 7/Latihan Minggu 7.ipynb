{
 "cells": [
  {
   "cell_type": "code",
   "execution_count": 1,
   "metadata": {},
   "outputs": [
    {
     "name": "stdout",
     "output_type": "stream",
     "text": [
      "Kata: mata\n",
      "Kata2: atma\n",
      "kata dan kata2 Anagram!\n",
      "Kata: mata\n",
      "Kata2: maat\n",
      "kata dan kata2 Anagram!\n",
      "Kata: mata\n",
      "Kata2: taam\n",
      "kata dan kata2 Anagram!\n",
      "Kata: mata\n",
      "Kata2: matt\n",
      "kata dan kata2 tidak Anagram!\n"
     ]
    }
   ],
   "source": [
    "# Latihan 7.1\n",
    "\n",
    "def anagram():\n",
    "    kata = input(\"Masukkan Kata: \")\n",
    "    print(f\"Kata: {kata}\")\n",
    "    kata2 = input(\"Masukkan Kata2: \")\n",
    "    print(f\"Kata2: {kata2}\")\n",
    "    kata = sorted(kata)\n",
    "    kata2 = sorted(kata2)\n",
    "    validator = True\n",
    "\n",
    "    for i in range(len(kata)):\n",
    "        if kata[i] == kata2[i]:\n",
    "            continue\n",
    "        else:\n",
    "            validator = False\n",
    "            break\n",
    "    if validator == True:\n",
    "        print(\"kata dan kata2 Anagram!\")\n",
    "    else:\n",
    "        print(\"kata dan kata2 tidak Anagram!\")\n",
    "\n",
    "anagram()\n",
    "anagram()\n",
    "anagram()\n",
    "anagram()"
   ]
  },
  {
   "cell_type": "code",
   "execution_count": 3,
   "metadata": {},
   "outputs": [
    {
     "name": "stdout",
     "output_type": "stream",
     "text": [
      "Kata: Saya mau makan. Makan itu wajib. Mau siang atau malam saya wajib makan\n",
      "Kata yang ingin dihitung kemunculannya: makan\n",
      "Total Kemunculan: 3\n",
      "Kata: Saya mau makan. Makan itu wajib. Mau siang atau malam saya wajib makan\n",
      "Kata yang ingin dihitung kemunculannya: wajib\n",
      "Total Kemunculan: 2\n",
      "Kata: Saya mau makan. Makan itu wajib. Mau siang atau malam saya wajib makan\n",
      "Kata yang ingin dihitung kemunculannya: siang\n",
      "Total Kemunculan: 1\n"
     ]
    }
   ],
   "source": [
    "# Latihan 7.2\n",
    "\n",
    "def frekuensi():\n",
    "    kata = input(\"Masukkan Kata: \")\n",
    "    kata_yang_dihitung = input(\"Masukkan kata yang ingin dihitung kemunculannya: \")\n",
    "    jumlah = 0\n",
    "    total = 0\n",
    "    print(f\"Kata: {kata}\")\n",
    "    print(f\"Kata yang ingin dihitung kemunculannya: {kata_yang_dihitung}\")\n",
    "\n",
    "    kata = kata.lower()\n",
    "    kata = ''.join([i for i in kata if i.isalpha()])\n",
    "    jumlahHuruf = 0\n",
    "    total = 0\n",
    "\n",
    "    i = 0\n",
    "    j = 0\n",
    "    panjang = 0\n",
    "    \n",
    "    while i < len(kata):\n",
    "        while j < len(kata_yang_dihitung):\n",
    "            if kata[i] == kata_yang_dihitung[j]:\n",
    "                i+=1\n",
    "                j+=1\n",
    "                panjang += 1\n",
    "            else:\n",
    "                j = 0\n",
    "                panjang = 0\n",
    "                break\n",
    "        \n",
    "        if panjang == len(kata_yang_dihitung):\n",
    "            total += 1\n",
    "            panjang = 0\n",
    "            j = 0\n",
    "        else:\n",
    "            i+=1\n",
    "            j = 0\n",
    "            continue\n",
    "\n",
    "    \n",
    "    print(f\"Total Kemunculan: {total}\")\n",
    "\n",
    "frekuensi()\n",
    "frekuensi()\n",
    "frekuensi()"
   ]
  },
  {
   "cell_type": "code",
   "execution_count": 8,
   "metadata": {},
   "outputs": [
    {
     "name": "stdout",
     "output_type": "stream",
     "text": [
      "Kata: saya      tidak suka      memancing ikan\n",
      "saya tidak suka memancing ikan\n"
     ]
    }
   ],
   "source": [
    "# Latihan 7.3\n",
    "\n",
    "def hapus_spasi():\n",
    "    kata = input(\"Masukkan kata: \")\n",
    "    print(f\"Kata: {kata}\")\n",
    "\n",
    "    kata = kata.lower()\n",
    "    kata = kata.split()\n",
    "    print(\" \".join(kata))\n",
    "\n",
    "hapus_spasi()"
   ]
  },
  {
   "cell_type": "code",
   "execution_count": 14,
   "metadata": {},
   "outputs": [
    {
     "name": "stdout",
     "output_type": "stream",
     "text": [
      "Kata: red snakes and a black frog in the pool\n",
      "Kata Terpanjang: snakes\n",
      "Kata Terpendek: a\n"
     ]
    }
   ],
   "source": [
    "# Latihan 7.4\n",
    "\n",
    "def terpanjang_terpendek():\n",
    "    kata = input(\"Masukkan Kata: \")\n",
    "    print(f\"Kata: {kata}\")\n",
    "\n",
    "    kata = kata.split(\" \")\n",
    "    terpanjang = kata[0]\n",
    "    terpendek = kata[0]\n",
    "\n",
    "    for i in range(len(kata)):\n",
    "        if len(terpanjang) < len(kata[i]):\n",
    "            terpanjang = kata[i]\n",
    "\n",
    "    for j in range(len(kata)):\n",
    "        if len(terpendek) > len(kata[j]):\n",
    "            terpendek = kata[j]\n",
    "        \n",
    "    \n",
    "    print(f\"Kata Terpanjang: {terpanjang}\")\n",
    "    print(f\"Kata Terpendek: {terpendek}\")\n",
    "    \n",
    "terpanjang_terpendek()"
   ]
  }
 ],
 "metadata": {
  "kernelspec": {
   "display_name": "Python 3",
   "language": "python",
   "name": "python3"
  },
  "language_info": {
   "codemirror_mode": {
    "name": "ipython",
    "version": 3
   },
   "file_extension": ".py",
   "mimetype": "text/x-python",
   "name": "python",
   "nbconvert_exporter": "python",
   "pygments_lexer": "ipython3",
   "version": "3.12.2"
  }
 },
 "nbformat": 4,
 "nbformat_minor": 2
}
