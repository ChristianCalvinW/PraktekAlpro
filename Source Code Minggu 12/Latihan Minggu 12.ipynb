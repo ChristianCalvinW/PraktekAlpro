{
 "cells": [
  {
   "cell_type": "code",
   "execution_count": 1,
   "metadata": {},
   "outputs": [
    {
     "name": "stdout",
     "output_type": "stream",
     "text": [
      "True\n",
      "False\n"
     ]
    }
   ],
   "source": [
    "# Latihan 11.1\n",
    "def cek(data):\n",
    "    count = 1\n",
    "\n",
    "    for i in range(len(data)):\n",
    "        for j in range(i + 1, len(data)):\n",
    "            if data[i] == data[j]:\n",
    "                count += 1\n",
    "                continue\n",
    "        \n",
    "        if count == len(data):\n",
    "            print(\"True\")\n",
    "            break\n",
    "        else:\n",
    "            print(\"False\")\n",
    "            break\n",
    "\n",
    "cek((90, 90, 90, 90))\n",
    "cek((80, 90, 90, 90))"
   ]
  },
  {
   "cell_type": "code",
   "execution_count": 2,
   "metadata": {},
   "outputs": [
    {
     "name": "stdout",
     "output_type": "stream",
     "text": [
      "('Christian Calvin Wijaya', '71231035', 'Seturan, DI Yogyakarta')\n",
      "NIM:  71231035\n",
      "Nama:  Christian Calvin Wijaya\n",
      "Alamat:  Seturan, DI Yogyakarta\n",
      "NIM:  ('7', '1', '2', '3', '1', '0', '3', '5')\n",
      "NAMA DEPAN:  ('C', 'h', 'r', 'i', 's', 't', 'i', 'a', 'n')\n",
      "NAMA TERBALIK:  ('Wijaya', 'Calvin', 'Christian')\n"
     ]
    }
   ],
   "source": [
    "# Latihan 11.2\n",
    "def tampilkanData(data):\n",
    "    print(data)\n",
    "\n",
    "    NIM = data[1]\n",
    "    nama = data[0]\n",
    "    alamat = data[2]\n",
    "    print(\"NIM: \", NIM)\n",
    "    print(\"Nama: \", nama)\n",
    "    print(\"Alamat: \", alamat)\n",
    "\n",
    "    NIM = tuple(NIM)\n",
    "    nama = nama.split()\n",
    "    namaDepan = tuple(nama[0])\n",
    "    namaTerbalik = tuple(nama[::-1])\n",
    "\n",
    "    print(\"NIM: \",NIM)\n",
    "    print(\"NAMA DEPAN: \", namaDepan)\n",
    "    print(\"NAMA TERBALIK: \", namaTerbalik)\n",
    "\n",
    "tampilkanData((\"Christian Calvin Wijaya\", \"71231035\", \"Seturan, DI Yogyakarta\"))"
   ]
  },
  {
   "cell_type": "code",
   "execution_count": 3,
   "metadata": {},
   "outputs": [
    {
     "name": "stdout",
     "output_type": "stream",
     "text": [
      "File: mbox-short.txt\n",
      "04 3\n",
      "06 1\n",
      "07 1\n",
      "09 2\n",
      "10 3\n",
      "11 6\n",
      "14 1\n",
      "15 2\n",
      "16 4\n",
      "17 2\n",
      "18 1\n",
      "19 1\n"
     ]
    }
   ],
   "source": [
    "# Latihan 11.3\n",
    "try:\n",
    "    handle = input(\"Masukkan nama file: \")\n",
    "    print(f\"File: {handle}\")\n",
    "    file = open(handle)\n",
    "    jam = dict()\n",
    "    for line in file:\n",
    "        if line.startswith(\"From\"):\n",
    "            line = line.split()\n",
    "            for i in range(len(line)):\n",
    "                if \":\" in line[i]:\n",
    "                    time = line[i].split(\":\")\n",
    "                    if time[0] not in jam and time[0] != \"From\":\n",
    "                        jam[time[0]] = 1\n",
    "                    elif time[0] in jam:\n",
    "                        jam[time[0]] += 1\n",
    "                    else:\n",
    "                        continue\n",
    "            \n",
    "    hasil = []\n",
    "    for key, value in jam.items():\n",
    "        hasil.append((key, value))\n",
    "\n",
    "    hasil.sort()\n",
    "    hasil = dict(hasil)\n",
    "    for key, value in hasil.items():\n",
    "        print(key, value)\n",
    "\n",
    "except:\n",
    "    print(\"File Tidak Ditemukan!\")\n",
    "    exit()"
   ]
  }
 ],
 "metadata": {
  "kernelspec": {
   "display_name": "Python 3",
   "language": "python",
   "name": "python3"
  },
  "language_info": {
   "codemirror_mode": {
    "name": "ipython",
    "version": 3
   },
   "file_extension": ".py",
   "mimetype": "text/x-python",
   "name": "python",
   "nbconvert_exporter": "python",
   "pygments_lexer": "ipython3",
   "version": "3.12.2"
  }
 },
 "nbformat": 4,
 "nbformat_minor": 2
}
