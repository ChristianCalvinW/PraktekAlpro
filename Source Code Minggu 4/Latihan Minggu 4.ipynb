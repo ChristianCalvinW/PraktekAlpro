{
 "cells": [
  {
   "cell_type": "code",
   "execution_count": 1,
   "metadata": {},
   "outputs": [
    {
     "data": {
      "text/plain": [
       "True"
      ]
     },
     "execution_count": 1,
     "metadata": {},
     "output_type": "execute_result"
    }
   ],
   "source": [
    "# latihan 4.1\n",
    "\n",
    "def cek_angka(angka1, angka2, angka3):\n",
    "    if angka1 != angka2 and angka2 != angka3 and angka3 != angka1:\n",
    "        if angka1 + angka2 == angka3 or angka2 + angka3 == angka1 or angka1 + angka3 == angka2:\n",
    "            return True\n",
    "    else:\n",
    "        return False\n",
    "\n",
    "cek_angka(9, 4, 5)"
   ]
  },
  {
   "cell_type": "code",
   "execution_count": 2,
   "metadata": {},
   "outputs": [
    {
     "name": "stdout",
     "output_type": "stream",
     "text": [
      "53\n",
      "8900\n",
      "658\n"
     ]
    },
    {
     "data": {
      "text/plain": [
       "False"
      ]
     },
     "execution_count": 2,
     "metadata": {},
     "output_type": "execute_result"
    }
   ],
   "source": [
    "# latihan 4.2\n",
    "\n",
    "num1 = int(input(\"Masukkan angka pertama: \"))\n",
    "num2 = int(input(\"Masukkan angka kedua: \"))\n",
    "num3 = int(input(\"Masukkan angka ketiga: \"))\n",
    "\n",
    "print(num1)\n",
    "print(num2)\n",
    "print(num3)\n",
    "\n",
    "def cek_digit_belakang(angka1, angka2, angka3):\n",
    "    angka1 = angka1 % 10\n",
    "    angka2 = angka2 % 10\n",
    "    angka3 = angka3 % 10\n",
    "\n",
    "    if angka1 == angka2 or angka2 == angka3 or angka3 == angka1:\n",
    "        return True\n",
    "    else:\n",
    "        return False\n",
    "\n",
    "cek_digit_belakang(num1, num2, num3)"
   ]
  },
  {
   "cell_type": "code",
   "execution_count": 3,
   "metadata": {},
   "outputs": [
    {
     "name": "stdout",
     "output_type": "stream",
     "text": [
      "Suhu dalam celcius: 100\n",
      "Suhu dalam Fahrenheit: 212.0\n",
      "Suhu dalam Reamur: 80.0\n"
     ]
    }
   ],
   "source": [
    "# latihan 4.3\n",
    "\n",
    "celcius = int(input(\"Masukkan suhu dalam celcius: \"))\n",
    "c_to_f = lambda c: (9/5) * c + 32\n",
    "c_to_r = lambda c: 0.8 * c\n",
    "\n",
    "print(\"Suhu dalam celcius:\",celcius)\n",
    "print(\"Suhu dalam Fahrenheit:\",c_to_f(celcius))\n",
    "print(\"Suhu dalam Reamur:\",c_to_r(celcius))"
   ]
  }
 ],
 "metadata": {
  "kernelspec": {
   "display_name": "Python 3",
   "language": "python",
   "name": "python3"
  },
  "language_info": {
   "codemirror_mode": {
    "name": "ipython",
    "version": 3
   },
   "file_extension": ".py",
   "mimetype": "text/x-python",
   "name": "python",
   "nbconvert_exporter": "python",
   "pygments_lexer": "ipython3",
   "version": "3.12.2"
  }
 },
 "nbformat": 4,
 "nbformat_minor": 2
}
