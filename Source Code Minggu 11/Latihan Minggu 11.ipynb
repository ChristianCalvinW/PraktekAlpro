{
 "cells": [
  {
   "cell_type": "code",
   "execution_count": 1,
   "metadata": {},
   "outputs": [
    {
     "name": "stdout",
     "output_type": "stream",
     "text": [
      "Key\tValue\tItem\n",
      "1\t10\t1\n",
      "2\t20\t2\n",
      "3\t30\t3\n",
      "4\t40\t4\n",
      "5\t50\t5\n",
      "6\t60\t6\n"
     ]
    }
   ],
   "source": [
    "# Latihan 10.1\n",
    "angka = dict({1: 10, 2: 20, 3: 30, 4: 40, 5: 50, 6: 60})\n",
    "print(\"Key\\tValue\\tItem\")\n",
    "for i, j in angka.items():\n",
    "    print(f\"{i}\\t{j}\\t{i}\")"
   ]
  },
  {
   "cell_type": "code",
   "execution_count": 2,
   "metadata": {},
   "outputs": [
    {
     "name": "stdout",
     "output_type": "stream",
     "text": [
      "{'red': '#FF0000', 'green': '#00800', 'blue': '#0000FF'}\n"
     ]
    }
   ],
   "source": [
    "# Latihan 10.2\n",
    "listA = ['red', 'green', 'blue']\n",
    "listB = ['#FF0000', '#00800', '#0000FF']\n",
    "panjang = len(listA)\n",
    "warna = dict()\n",
    "for i in range(panjang):\n",
    "    warna[listA[i]] = listB[i]\n",
    "\n",
    "print(warna)"
   ]
  },
  {
   "cell_type": "code",
   "execution_count": 3,
   "metadata": {},
   "outputs": [
    {
     "name": "stdout",
     "output_type": "stream",
     "text": [
      "{'stephen.marquard@uct.ac.za': 8, 'postmaster@collab.sakaiproject.org': 27, '200801051412.m05ECIaH010327@nakamura.uits.iupui.edu': 1, 'source@collab.sakaiproject.org>;': 81, 'apache@localhost': 27, 'source@collab.sakaiproject.org;': 27, 'source@collab.sakaiproject.org': 27, 'louis@media.berkeley.edu': 12, '200801042308.m04N8v6O008125@nakamura.uits.iupui.edu': 1, 'zqian@umich.edu': 17, '200801042109.m04L92hb007923@nakamura.uits.iupui.edu': 1, 'rjlowe@iupui.edu': 8, '200801042044.m04Kiem3007881@nakamura.uits.iupui.edu': 1, '200801042001.m04K1cO0007738@nakamura.uits.iupui.edu': 1, '200801041948.m04JmdwO007705@nakamura.uits.iupui.edu': 1, 'cwen@iupui.edu': 20, '200801041635.m04GZQGZ007313@nakamura.uits.iupui.edu': 1, 'hu2@iupui.edu': 2, '200801041633.m04GX6eG007292@nakamura.uits.iupui.edu': 1, 'gsilver@umich.edu': 12, '200801041611.m04GB1Lb007221@nakamura.uits.iupui.edu': 1, '200801041610.m04GA5KP007209@nakamura.uits.iupui.edu': 1, '200801041609.m04G9EuX007197@nakamura.uits.iupui.edu': 1, '200801041608.m04G8d7w007184@nakamura.uits.iupui.edu': 1, 'wagnermr@iupui.edu': 6, '200801041537.m04Fb6Ci007092@nakamura.uits.iupui.edu': 1, '200801041515.m04FFv42007050@nakamura.uits.iupui.edu': 1, 'antranig@caret.cam.ac.uk': 4, '200801041502.m04F21Jo007031@nakamura.uits.iupui.edu': 1, 'gopal.ramasammycook@gmail.com': 4, '200801041403.m04E3psW006926@nakamura.uits.iupui.edu': 1, 'david.horwitz@uct.ac.za': 17, '200801041200.m04C0gfK006793@nakamura.uits.iupui.edu': 1, 'dhorwitz@david-horwitz-6:~/branchManagemnt/sakai_2-5-x': 4, '200801041106.m04B6lK3006677@nakamura.uits.iupui.edu': 1, '200801040947.m049lUxo006517@nakamura.uits.iupui.edu': 1, 'josrodri@iupui.edu': 2, '200801040932.m049W2i5006493@nakamura.uits.iupui.edu': 1, '200801040905.m0495rWB006420@nakamura.uits.iupui.edu': 1, '200801040023.m040NpCc005473@nakamura.uits.iupui.edu': 1, '200801032216.m03MGhDa005292@nakamura.uits.iupui.edu': 1, 'ray@media.berkeley.edu': 4, '200801032205.m03M5Ea7005273@nakamura.uits.iupui.edu': 1, '200801032133.m03LX3gG005191@nakamura.uits.iupui.edu': 1, '200801032127.m03LRUqH005177@nakamura.uits.iupui.edu': 1, '200801032122.m03LMFo4005148@nakamura.uits.iupui.edu': 1}\n"
     ]
    }
   ],
   "source": [
    "# Latihan 10.3\n",
    "fileUser = input(\"Masukkan Nama File: \")\n",
    "try:\n",
    "    handle = open(fileUser)\n",
    "except FileNotFoundError:\n",
    "    print(\"File Tidak Ditemukan!\")\n",
    "    exit()\n",
    "kalimat = dict()\n",
    "for line in handle:\n",
    "    line = line.split()\n",
    "    for i in range(len(line)):\n",
    "        line[i] = line[i].lstrip(\"<\")\n",
    "        line[i] = line[i].rstrip(\">\")\n",
    "        line[i] = line[i].rstrip(\")\")\n",
    "        if line[i] not in kalimat and \"@\" in line[i]:\n",
    "            kalimat[line[i]] = 1\n",
    "        elif line[i] in kalimat:\n",
    "            kalimat[line[i]] += 1\n",
    "        else:\n",
    "            continue\n",
    "\n",
    "print(kalimat)"
   ]
  },
  {
   "cell_type": "code",
   "execution_count": 4,
   "metadata": {},
   "outputs": [
    {
     "name": "stdout",
     "output_type": "stream",
     "text": [
      "{'uct.ac.za': 25, 'collab.sakaiproject.org': 54, 'nakamura.uits.iupui.edu': 27, 'collab.sakaiproject.org>;': 81, 'localhost': 27, 'collab.sakaiproject.org;': 27, 'media.berkeley.edu': 16, 'umich.edu': 29, 'iupui.edu': 38, 'caret.cam.ac.uk': 4, 'gmail.com': 4, 'david-horwitz-6:~/branchManagemnt/sakai_2-5-x': 4}\n"
     ]
    }
   ],
   "source": [
    "# Latihan 10.4\n",
    "fileUser = input(\"Masukkan Nama File: \")\n",
    "try:\n",
    "    handle = open(fileUser)\n",
    "except FileNotFoundError:\n",
    "    print(\"File Tidak Ditemukan!\")\n",
    "    exit()\n",
    "kalimat = dict()\n",
    "for line in handle:\n",
    "    line = line.split()\n",
    "    for i in range(len(line)):\n",
    "        line[i] = line[i].lstrip(\"<\")\n",
    "        line[i] = line[i].lstrip(\"(\")\n",
    "        line[i] = line[i].rstrip(\">\")\n",
    "        line[i] = line[i].rstrip(\")\")\n",
    "\n",
    "        newFormat = \"\"\n",
    "        if \"@\" in line[i]:  \n",
    "            index = line[i].index(\"@\")\n",
    "            newFormat = line[i][index + 1:]\n",
    "\n",
    "        if newFormat != \"\":\n",
    "            if newFormat not in kalimat:\n",
    "                kalimat[newFormat] = 1\n",
    "            elif newFormat in kalimat:\n",
    "                kalimat[newFormat] += 1\n",
    "            else:\n",
    "                continue\n",
    "        else:\n",
    "            continue\n",
    "print(kalimat)"
   ]
  }
 ],
 "metadata": {
  "kernelspec": {
   "display_name": "Python 3",
   "language": "python",
   "name": "python3"
  },
  "language_info": {
   "codemirror_mode": {
    "name": "ipython",
    "version": 3
   },
   "file_extension": ".py",
   "mimetype": "text/x-python",
   "name": "python",
   "nbconvert_exporter": "python",
   "pygments_lexer": "ipython3",
   "version": "3.12.2"
  }
 },
 "nbformat": 4,
 "nbformat_minor": 2
}
