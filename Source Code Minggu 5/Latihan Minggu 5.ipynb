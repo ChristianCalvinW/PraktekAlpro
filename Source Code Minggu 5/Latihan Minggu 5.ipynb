{
 "cells": [
  {
   "cell_type": "code",
   "execution_count": 1,
   "metadata": {},
   "outputs": [
    {
     "name": "stdout",
     "output_type": "stream",
     "text": [
      "30\n",
      "70\n"
     ]
    }
   ],
   "source": [
    "#Latihan 5.1\n",
    "\n",
    "def perkalian(jumlah_perulangan, angka):\n",
    "    total = 0\n",
    "    for i in range(0, jumlah_perulangan):\n",
    "        total += angka\n",
    "    \n",
    "    print(total)\n",
    "\n",
    "perkalian(6, 5)\n",
    "perkalian(7, 10)\n"
   ]
  },
  {
   "cell_type": "code",
   "execution_count": 2,
   "metadata": {},
   "outputs": [
    {
     "name": "stdout",
     "output_type": "stream",
     "text": [
      "Batas Bawah:  10\n",
      "Batas Atas:  32\n",
      "11\n",
      "13\n",
      "15\n",
      "17\n",
      "19\n",
      "21\n",
      "23\n",
      "25\n",
      "27\n",
      "29\n",
      "31\n",
      "\n",
      "\n",
      "Batas Bawah:  97\n",
      "Batas Atas:  82\n",
      "97\n",
      "95\n",
      "93\n",
      "91\n",
      "89\n",
      "87\n",
      "85\n",
      "83\n",
      "\n",
      "\n"
     ]
    }
   ],
   "source": [
    "#Latihan 5.2\n",
    "def ganjil():\n",
    "    batas_bawah = int(input(\"Masukkan Batas Bawah: \"))\n",
    "    batas_atas = int(input(\"Masukkan Batas Atas: \"))\n",
    "\n",
    "    print(\"Batas Bawah: \", batas_bawah)\n",
    "    print(\"Batas Atas: \", batas_atas)\n",
    "\n",
    "    if batas_atas > batas_bawah:\n",
    "        if batas_bawah % 2 == 0:\n",
    "            batas_bawah += 1\n",
    "            for i in range(batas_bawah, batas_atas, 2):\n",
    "                print(i)\n",
    "    elif batas_atas < batas_bawah:\n",
    "        if batas_atas % 2 == 0:\n",
    "            batas_atas -= 1\n",
    "            for i in range(batas_bawah, batas_atas, -2):\n",
    "                print(i)\n",
    "    print(\"\\n\")\n",
    "\n",
    "ganjil()\n",
    "ganjil()"
   ]
  },
  {
   "cell_type": "code",
   "execution_count": 3,
   "metadata": {},
   "outputs": [
    {
     "name": "stdout",
     "output_type": "stream",
     "text": [
      "Jumlah Matkul :  6\n",
      "Nilai Matkul 1:  A\n",
      "Nilai Matkul 2:  B\n",
      "Nilai Matkul 3:  C\n",
      "Nilai Matkul 4:  A\n",
      "Nilai Matkul 5:  D\n",
      "Nilai Matkul 6:  C\n",
      "2.67\n"
     ]
    }
   ],
   "source": [
    "#Latihan 5.3\n",
    "def hitung_nilai():\n",
    "    jumlah_matkul = int(input(\"Masukkan jumlah mata kuliah: \"))\n",
    "    print(\"Jumlah Matkul : \", jumlah_matkul)\n",
    "    totalIPS = 0\n",
    "    MK = 1\n",
    "    for _ in range(0, jumlah_matkul):\n",
    "        matkul = (input(f\"Masukkan Nilai MK {MK} : \"))\n",
    "        print(f\"Nilai Matkul {MK}: \", matkul)\n",
    "        if matkul == \"A\":\n",
    "            totalIPS += 4\n",
    "        elif matkul == \"B\":\n",
    "            totalIPS += 3\n",
    "        elif matkul == \"C\":\n",
    "            totalIPS += 2\n",
    "        else:\n",
    "            totalIPS += 1\n",
    "        MK += 1\n",
    "\n",
    "    print(round(totalIPS / jumlah_matkul, 2))\n",
    "\n",
    "hitung_nilai()\n"
   ]
  }
 ],
 "metadata": {
  "kernelspec": {
   "display_name": "Python 3",
   "language": "python",
   "name": "python3"
  },
  "language_info": {
   "codemirror_mode": {
    "name": "ipython",
    "version": 3
   },
   "file_extension": ".py",
   "mimetype": "text/x-python",
   "name": "python",
   "nbconvert_exporter": "python",
   "pygments_lexer": "ipython3",
   "version": "3.12.2"
  }
 },
 "nbformat": 4,
 "nbformat_minor": 2
}
