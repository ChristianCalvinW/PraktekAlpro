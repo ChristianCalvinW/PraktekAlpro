{
 "cells": [
  {
   "cell_type": "code",
   "execution_count": 1,
   "id": "07c482ca-53bb-47ce-a1f7-1f767c280377",
   "metadata": {},
   "outputs": [
    {
     "name": "stdout",
     "output_type": "stream",
     "text": [
      "2075000\n",
      "7.822808671065033\n"
     ]
    }
   ],
   "source": [
    "emasAwal = 25\n",
    "emasBeli = 15\n",
    "hargaEmasAwal = 650000\n",
    "hargaEmasBeli = 685000\n",
    "hargaEmasSekarang = 715000\n",
    "totalHargaEmasAwal = hargaEmasAwal * emasAwal\n",
    "totalHargaEmasBeli = hargaEmasBeli * emasBeli\n",
    "totalHargaEmasSekarang = hargaEmasSekarang * (emasAwal + emasBeli)\n",
    "keuntunganDalamRupiah = totalHargaEmasSekarang - (totalHargaEmasAwal + totalHargaEmasBeli)\n",
    "keuntunganDalamPersen = (keuntunganDalamRupiah / (totalHargaEmasAwal + totalHargaEmasBeli)) * 100\n",
    "\n",
    "print(keuntunganDalamRupiah)\n",
    "print(keuntunganDalamPersen)"
   ]
  },
  {
   "cell_type": "code",
   "execution_count": null,
   "id": "894ac654-54ec-49b7-845d-27ae831f1b48",
   "metadata": {},
   "outputs": [],
   "source": []
  }
 ],
 "metadata": {
  "kernelspec": {
   "display_name": "Python 3 (ipykernel)",
   "language": "python",
   "name": "python3"
  },
  "language_info": {
   "codemirror_mode": {
    "name": "ipython",
    "version": 3
   },
   "file_extension": ".py",
   "mimetype": "text/x-python",
   "name": "python",
   "nbconvert_exporter": "python",
   "pygments_lexer": "ipython3",
   "version": "3.12.2"
  }
 },
 "nbformat": 4,
 "nbformat_minor": 5
}
