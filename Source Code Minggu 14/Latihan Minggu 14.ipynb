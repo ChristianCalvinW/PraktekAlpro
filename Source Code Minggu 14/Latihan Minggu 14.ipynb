{
 "cells": [
  {
   "cell_type": "code",
   "execution_count": 1,
   "metadata": {},
   "outputs": [
    {
     "data": {
      "text/plain": [
       "False"
      ]
     },
     "execution_count": 1,
     "metadata": {},
     "output_type": "execute_result"
    }
   ],
   "source": [
    "# Latihan 13.1\n",
    "def prima(n, i = 2):\n",
    "    if n <= 2 :\n",
    "        return True if n == 2 else False\n",
    "    elif n % i == 0 and i < n:\n",
    "        return False\n",
    "    elif n == i:\n",
    "        return True\n",
    "    else:\n",
    "        return prima(n, i+1)\n",
    "\n",
    "prima(14)"
   ]
  },
  {
   "cell_type": "code",
   "execution_count": 2,
   "metadata": {},
   "outputs": [
    {
     "data": {
      "text/plain": [
       "True"
      ]
     },
     "execution_count": 2,
     "metadata": {},
     "output_type": "execute_result"
    }
   ],
   "source": [
    "# Latihan 13.2\n",
    "def palindrome(kata, i = 0, j = -1):\n",
    "    if len(kata) == 1:\n",
    "        return True\n",
    "    else:\n",
    "        if kata[i] == kata[j] and i <= len(kata) / 2:\n",
    "            palindrome(kata, i + 1, j - 1)\n",
    "        else:\n",
    "            return False\n",
    "\n",
    "    return True\n",
    "\n",
    "palindrome(\"rotator\")"
   ]
  },
  {
   "cell_type": "code",
   "execution_count": 4,
   "metadata": {},
   "outputs": [
    {
     "name": "stdout",
     "output_type": "stream",
     "text": [
      "25\n"
     ]
    }
   ],
   "source": [
    "# Latihan 13.3\n",
    "def ganjil(n):\n",
    "    if n == 1:\n",
    "        return 1\n",
    "    else:\n",
    "        if n % 2 != 0:\n",
    "            return ganjil(n - 2) + n\n",
    "        else:\n",
    "            ganjil(n-1)\n",
    "\n",
    "print(ganjil(9))"
   ]
  },
  {
   "cell_type": "code",
   "execution_count": 5,
   "metadata": {},
   "outputs": [
    {
     "name": "stdout",
     "output_type": "stream",
     "text": [
      "9\n"
     ]
    }
   ],
   "source": [
    "# Latihan 13.4\n",
    "def jumlah(n, i = 0, total = 0):\n",
    "    if i == len(n):\n",
    "        print(total)\n",
    "    elif i < len(n):\n",
    "        jumlah(n, i+1, total+int(n[i]))\n",
    "\n",
    "jumlah(\"243\")"
   ]
  },
  {
   "cell_type": "code",
   "execution_count": 6,
   "metadata": {},
   "outputs": [
    {
     "name": "stdout",
     "output_type": "stream",
     "text": [
      "3003\n"
     ]
    }
   ],
   "source": [
    "# Latihan 13.5\n",
    "def kombinasi(n_atas, r, n_bawah,  atas = 1, bawah = 1):\n",
    "    if n_atas == 0:\n",
    "        bawah = faktorial(n_bawah - r)\n",
    "        r = faktorial(r)\n",
    "        print(int(atas / ((bawah) * r)))\n",
    "    else:\n",
    "        kombinasi(n_atas - 1, r, n_bawah, atas * n_atas, bawah)\n",
    "        \n",
    "def faktorial(num):\n",
    "    if num == 1:\n",
    "        return 1\n",
    "    else:\n",
    "        return faktorial(num - 1) * num\n",
    "\n",
    "kombinasi(15, 10, 15)"
   ]
  }
 ],
 "metadata": {
  "kernelspec": {
   "display_name": "Python 3",
   "language": "python",
   "name": "python3"
  },
  "language_info": {
   "codemirror_mode": {
    "name": "ipython",
    "version": 3
   },
   "file_extension": ".py",
   "mimetype": "text/x-python",
   "name": "python",
   "nbconvert_exporter": "python",
   "pygments_lexer": "ipython3",
   "version": "3.12.2"
  }
 },
 "nbformat": 4,
 "nbformat_minor": 2
}
