{
 "cells": [
  {
   "cell_type": "code",
   "execution_count": 1,
   "id": "ca726f89-8873-4d0a-b7c8-9650fa020b22",
   "metadata": {},
   "outputs": [
    {
     "name": "stdout",
     "output_type": "stream",
     "text": [
      "428717762.0000003\n"
     ]
    }
   ],
   "source": [
    "uangErika = 200000000\n",
    "bunga = 0.1\n",
    "bungaPerTahun = 1\n",
    "totalWaktu = 8\n",
    "\n",
    "totalUangErika = uangErika * (1 + bunga/bungaPerTahun) ** (bungaPerTahun * totalWaktu)\n",
    "print(totalUangErika)"
   ]
  },
  {
   "cell_type": "code",
   "execution_count": null,
   "id": "a27dd290-dcf3-4b14-aaab-b0c74c289dd3",
   "metadata": {},
   "outputs": [],
   "source": []
  }
 ],
 "metadata": {
  "kernelspec": {
   "display_name": "Python 3 (ipykernel)",
   "language": "python",
   "name": "python3"
  },
  "language_info": {
   "codemirror_mode": {
    "name": "ipython",
    "version": 3
   },
   "file_extension": ".py",
   "mimetype": "text/x-python",
   "name": "python",
   "nbconvert_exporter": "python",
   "pygments_lexer": "ipython3",
   "version": "3.12.2"
  }
 },
 "nbformat": 4,
 "nbformat_minor": 5
}
