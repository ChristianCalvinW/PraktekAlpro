{
 "cells": [
  {
   "cell_type": "code",
   "execution_count": null,
   "id": "0a5a4dd9-7690-48a1-8a1c-50edc75077d6",
   "metadata": {},
   "outputs": [],
   "source": [
    "operasi sederhana"
   ]
  },
  {
   "cell_type": "code",
   "execution_count": 1,
   "id": "7bfa622b-b7da-4f56-9c99-68e0b83dda1a",
   "metadata": {},
   "outputs": [
    {
     "name": "stdout",
     "output_type": "stream",
     "text": [
      "60\n"
     ]
    }
   ],
   "source": [
    "x = 20\n",
    "y = 10\n",
    "z = 30\n",
    "total = x + y + z\n",
    "print(total)"
   ]
  },
  {
   "cell_type": "code",
   "execution_count": null,
   "id": "ca0b9430-43c8-4145-887e-c2e2a97e70aa",
   "metadata": {},
   "outputs": [],
   "source": [
    "String dan Expression"
   ]
  },
  {
   "cell_type": "code",
   "execution_count": 2,
   "id": "6988c59f-1dd4-44a0-a024-f5cd46647a67",
   "metadata": {},
   "outputs": [
    {
     "name": "stdout",
     "output_type": "stream",
     "text": [
      "ChristianCalvinWijaya\n",
      "100150\n",
      "HelloHelloHello\n"
     ]
    }
   ],
   "source": [
    "namaDepan = \"Christian\"\n",
    "namaTengah = \"Calvin\"\n",
    "namaBelakang = \"Wijaya\"\n",
    "print(namaDepan + namaTengah + namaBelakang)\n",
    "\n",
    "angka1 = \"100\"\n",
    "angka2 = \"150\"\n",
    "print(angka1 + angka2)\n",
    "\n",
    "kata = \"Hello\"\n",
    "angka3 = 3\n",
    "print(kata * angka3)"
   ]
  },
  {
   "cell_type": "code",
   "execution_count": null,
   "id": "a5fcfd94-028d-401a-87c4-3b7fd85e2b2d",
   "metadata": {},
   "outputs": [],
   "source": [
    "modulo"
   ]
  },
  {
   "cell_type": "code",
   "execution_count": 3,
   "id": "fdad493d-75e1-4394-be06-b90613de0d48",
   "metadata": {},
   "outputs": [
    {
     "name": "stdout",
     "output_type": "stream",
     "text": [
      "0\n",
      "5\n"
     ]
    }
   ],
   "source": [
    "total = 30 % 10\n",
    "total2 = 15 % 10\n",
    "print(total)\n",
    "print(total2)"
   ]
  },
  {
   "cell_type": "code",
   "execution_count": null,
   "id": "e23cebd4-bd35-4b5a-bbe8-7babacf7f983",
   "metadata": {},
   "outputs": [],
   "source": [
    "User input dan Komen"
   ]
  },
  {
   "cell_type": "code",
   "execution_count": 4,
   "id": "dc28119c-721c-421b-94f5-57fdbc7fb095",
   "metadata": {},
   "outputs": [
    {
     "name": "stdin",
     "output_type": "stream",
     "text": [
      "Masukkan Angka:  20\n"
     ]
    },
    {
     "name": "stdout",
     "output_type": "stream",
     "text": [
      "30\n"
     ]
    }
   ],
   "source": [
    "# print(30 + 10)\n",
    "\n",
    "# Menerima User input dan menambahkan terhadap variable x\n",
    "angka1 = int(input(\"Masukkan Angka: \"))\n",
    "x = 10\n",
    "print(angka1 + 10)"
   ]
  }
 ],
 "metadata": {
  "kernelspec": {
   "display_name": "Python 3 (ipykernel)",
   "language": "python",
   "name": "python3"
  },
  "language_info": {
   "codemirror_mode": {
    "name": "ipython",
    "version": 3
   },
   "file_extension": ".py",
   "mimetype": "text/x-python",
   "name": "python",
   "nbconvert_exporter": "python",
   "pygments_lexer": "ipython3",
   "version": "3.12.2"
  }
 },
 "nbformat": 4,
 "nbformat_minor": 5
}
