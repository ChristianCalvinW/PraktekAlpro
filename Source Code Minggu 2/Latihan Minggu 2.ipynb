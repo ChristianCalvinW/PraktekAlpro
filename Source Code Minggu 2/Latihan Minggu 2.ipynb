{
 "cells": [
  {
   "cell_type": "code",
   "execution_count": null,
   "id": "619aeca0-2af6-419f-93b7-3f907d779688",
   "metadata": {},
   "outputs": [],
   "source": [
    "latihan 2.1"
   ]
  },
  {
   "cell_type": "code",
   "execution_count": 7,
   "id": "944c5b80-2900-4a28-828f-b09284316777",
   "metadata": {},
   "outputs": [
    {
     "name": "stdout",
     "output_type": "stream",
     "text": [
      "21.32943754565376\n"
     ]
    }
   ],
   "source": [
    "# Berat (KG)\n",
    "berat = 73\n",
    "\n",
    "# Tinggi (M)\n",
    "tinggi = 1.85\n",
    "\n",
    "def bodyMassIndex(berat, tinggi):\n",
    "    return berat / (tinggi ** 2)\n",
    "\n",
    "print(bodyMassIndex(berat, tinggi))"
   ]
  },
  {
   "cell_type": "code",
   "execution_count": null,
   "id": "530bd796-4424-4c5d-b31f-35501f7761a6",
   "metadata": {},
   "outputs": [],
   "source": [
    "latihan 2.2"
   ]
  },
  {
   "cell_type": "code",
   "execution_count": 8,
   "id": "d31be8cf-b1e5-4798-af8b-ab562ad332b1",
   "metadata": {},
   "outputs": [
    {
     "name": "stdin",
     "output_type": "stream",
     "text": [
      "Masukkan bilangan bulat:  2\n"
     ]
    },
    {
     "name": "stdout",
     "output_type": "stream",
     "text": [
      "27.5\n"
     ]
    }
   ],
   "source": [
    "# Menerima input X\n",
    "x = int(input(\"Masukkan bilangan bulat: \"))\n",
    "\n",
    "# Fungsi X sesuai soal\n",
    "fungsiX =  2 * (x ** 3) + 2 * x + 15 / x\n",
    "\n",
    "print(fungsiX)"
   ]
  },
  {
   "cell_type": "code",
   "execution_count": null,
   "id": "eb562ece-7677-472d-a01f-35fd79ed9be9",
   "metadata": {},
   "outputs": [],
   "source": [
    "latihan 2.3"
   ]
  },
  {
   "cell_type": "code",
   "execution_count": 6,
   "id": "cdc33c70-9b1a-4353-91f6-50184766cd17",
   "metadata": {},
   "outputs": [
    {
     "name": "stdin",
     "output_type": "stream",
     "text": [
      "Masukkan Gaji Per Jam:  1000000\n",
      "Masukkan jumlah jam kerja yang dilakukan selama 1 minggu:  7\n"
     ]
    },
    {
     "name": "stdout",
     "output_type": "stream",
     "text": [
      "Gaji per jam: Rp.1000000.00\n",
      "Jam kerja: 7 Jam\n",
      "-------------------------------------------\n",
      "Pendapatan Budi selama libur musim panas sebelum pajak: Rp.35000000.00\n",
      "Pendapatan Budi selama libur musim panas setelah pajak: Rp.30100000.00\n",
      "Jumlah uang yang akan Budi habiskan untuk membeli pakaian dan aksesoris: Rp.3010000.00\n",
      "Jumlah uang yang akan Budi habiskan untuk membeli alat tulis: Rp.301000.00\n",
      "Jumlah uang yang akan Budi sedekahkan: Rp.6697250.00\n",
      "Jumlah uang yang akan diterima anak yatim: Rp.2009100.00\n",
      "Jumlah uang yang akan diterima kaum dhuafa: Rp.4687900.00\n"
     ]
    }
   ],
   "source": [
    "gajiPerJam = int(input(\"Masukkan Gaji Per Jam: \"))\n",
    "jamKerjaPerMinggu = int(input(\"Masukkan jumlah jam kerja yang dilakukan selama 1 minggu: \"))\n",
    "\n",
    "totalJamKerja = jamKerjaPerMinggu * 5\n",
    "pendapatanSebelumPajak = gajiPerJam * totalJamKerja\n",
    "totalPajak = pendapatanSebelumPajak * 0.14\n",
    "pendapatanSetelahPajak = pendapatanSebelumPajak - totalPajak\n",
    "\n",
    "uangHabisPakaianAksesoris = pendapatanSetelahPajak * 0.10\n",
    "uangHabisAlatTulis = pendapatanSetelahPajak * 0.01\n",
    "uangSedekah = 0.25 * (pendapatanSetelahPajak - uangHabisPakaianAksesoris - uangHabisAlatTulis)\n",
    "\n",
    "setiapSeribu = uangSedekah\n",
    "while setiapSeribu >= 1000:\n",
    "    setiapSeribu -= 1000\n",
    "uangSedekahSebenarnya = uangSedekah - setiapSeribu\n",
    "uangAnakYatim = uangSedekahSebenarnya * 0.30\n",
    "uangKaumDhuafa = uangSedekahSebenarnya * 0.70\n",
    "\n",
    "print(\"Gaji per jam: Rp.{:.2f}\".format(gajiPerJam))\n",
    "print(\"Jam kerja: {} Jam\".format(jamKerjaPerMinggu))\n",
    "print(\"-------------------------------------------\")\n",
    "print(\"Pendapatan Budi selama libur musim panas sebelum pajak: Rp.{:.2f}\".format(round(pendapatanSebelumPajak)))\n",
    "print(\"Pendapatan Budi selama libur musim panas setelah pajak: Rp.{:.2f}\".format(round(pendapatanSetelahPajak)))\n",
    "print(\"Jumlah uang yang akan Budi habiskan untuk membeli pakaian dan aksesoris: Rp.{:.2f}\".format(round(uangHabisPakaianAksesoris)))\n",
    "print(\"Jumlah uang yang akan Budi habiskan untuk membeli alat tulis: Rp.{:.2f}\".format(round(uangHabisAlatTulis)))\n",
    "print(\"Jumlah uang yang akan Budi sedekahkan: Rp.{:.2f}\".format(round(uangSedekah)))\n",
    "print(\"Jumlah uang yang akan diterima anak yatim: Rp.{:.2f}\".format(round(uangAnakYatim)))\n",
    "print(\"Jumlah uang yang akan diterima kaum dhuafa: Rp.{:.2f}\".format(round(uangKaumDhuafa)))"
   ]
  }
 ],
 "metadata": {
  "kernelspec": {
   "display_name": "Python 3 (ipykernel)",
   "language": "python",
   "name": "python3"
  },
  "language_info": {
   "codemirror_mode": {
    "name": "ipython",
    "version": 3
   },
   "file_extension": ".py",
   "mimetype": "text/x-python",
   "name": "python",
   "nbconvert_exporter": "python",
   "pygments_lexer": "ipython3",
   "version": "3.12.2"
  }
 },
 "nbformat": 4,
 "nbformat_minor": 5
}
