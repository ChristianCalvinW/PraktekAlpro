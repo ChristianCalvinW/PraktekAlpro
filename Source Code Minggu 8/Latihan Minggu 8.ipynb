{
 "cells": [
  {
   "cell_type": "code",
   "execution_count": 1,
   "metadata": {},
   "outputs": [
    {
     "name": "stdout",
     "output_type": "stream",
     "text": [
      "Teks 1: main saya algoritma dan pemrograman\n",
      " melihat orang game\n",
      "Teks 2:  juga praktek alpro\n",
      " liat\n"
     ]
    }
   ],
   "source": [
    "# Latihan 8.1\n",
    "file1 = open('kata-kata.txt')\n",
    "file2 = open('kalimat.txt')\n",
    "kata1 = []\n",
    "kata2 = []\n",
    "kata_beda1 = []\n",
    "kata_beda2 = []\n",
    "\n",
    "\n",
    "for line in file1:\n",
    "    line = line.split(\" \")\n",
    "    for i in range(len(line)):\n",
    "        kata1.append(line[i])\n",
    "\n",
    "for line in file2:\n",
    "    line = line.split(\" \")\n",
    "    for i in range(len(line)):\n",
    "        kata2.append(line[i])\n",
    "\n",
    "    for i in range(len(kata2)):\n",
    "        if kata2[i] not in kata1 and kata2[i] not in kata_beda2:\n",
    "            kata_beda2.append(kata2[i])\n",
    "\n",
    "    for i in range(len(kata1)):\n",
    "        if kata1[i] not in kata2 and kata1[i] not in kata_beda1:\n",
    "            kata_beda1.append(kata1[i])\n",
    "\n",
    "print(f\"Teks 1: {\" \".join(kata_beda1)}\")\n",
    "print(f\"Teks 2:  {\" \".join(kata_beda2)}\")\n",
    "        "
   ]
  },
  {
   "cell_type": "code",
   "execution_count": 31,
   "metadata": {},
   "outputs": [
    {
     "name": "stdout",
     "output_type": "stream",
     "text": [
      "1+1 = || 2\n",
      "\n",
      "Salah!\n",
      "Bendera Indonesia? || Merah Putih\n",
      "\n",
      "Salah!\n",
      "Kota gudeg adalah: || Yogyakarta\n",
      "\n",
      "Salah!\n",
      "Komponen PC untuk penyimpanan file adalah... || harddisk\n",
      "\n",
      "Salah!\n",
      "50 * 20 = || 1000\n",
      "Salah!\n"
     ]
    }
   ],
   "source": [
    "# Latihan 8.2\n",
    "with open(\"soal.txt\", \"r\") as file:\n",
    "    for line in file:\n",
    "        print(line)\n",
    "        line = line.lower()\n",
    "        line = line.split(\" \")\n",
    "        jawaban = input(\"Jawab: \")\n",
    "        jawaban = jawaban.lower()\n",
    "\n",
    "        count = 0\n",
    "        for i in range(len(line) - 1, 0, -1):\n",
    "            if line[i] != '||':\n",
    "                line[i] = line[i].strip()\n",
    "                count += 1\n",
    "            else:\n",
    "                break\n",
    "        \n",
    "        if count == 1:\n",
    "            if jawaban in line:\n",
    "                print(\"Benar!\")\n",
    "            else:\n",
    "                print(\"Salah!\")\n",
    "        else:\n",
    "            jawaban = jawaban.split(\" \")\n",
    "            if len(jawaban) == count:\n",
    "                total = 0\n",
    "                for i in range(len(jawaban)):\n",
    "                    if jawaban[i] in line:\n",
    "                        total += 1\n",
    "                if total == count:\n",
    "                    print(\"Benar!\")\n",
    "                else:\n",
    "                    print(\"Salah!\")\n",
    "            \n",
    "            else:\n",
    "                print(\"Salah!\")"
   ]
  }
 ],
 "metadata": {
  "kernelspec": {
   "display_name": "Python 3",
   "language": "python",
   "name": "python3"
  },
  "language_info": {
   "codemirror_mode": {
    "name": "ipython",
    "version": 3
   },
   "file_extension": ".py",
   "mimetype": "text/x-python",
   "name": "python",
   "nbconvert_exporter": "python",
   "pygments_lexer": "ipython3",
   "version": "3.12.2"
  }
 },
 "nbformat": 4,
 "nbformat_minor": 2
}
