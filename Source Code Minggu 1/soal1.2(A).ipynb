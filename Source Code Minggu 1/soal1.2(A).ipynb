{
 "cells": [
  {
   "cell_type": "code",
   "execution_count": 1,
   "id": "58c892f2-49ec-40eb-a9ac-1c2b91e3fc87",
   "metadata": {},
   "outputs": [
    {
     "name": "stdout",
     "output_type": "stream",
     "text": [
      "875000\n",
      "5.384615384615385\n"
     ]
    }
   ],
   "source": [
    "emas = 25\n",
    "hargaAwalEmas = 650000\n",
    "hargaSetelahNaik = 685000\n",
    "totalHargaEmasAwal = hargaAwalEmas * emas\n",
    "totalHargaSetelahNaik = hargaSetelahNaik * emas\n",
    "keuntunganDalamRupiah = totalHargaSetelahNaik - totalHargaEmasAwal\n",
    "keuntunganDalamPersen = (keuntunganDalamRupiah / totalHargaEmasAwal) * 100\n",
    "\n",
    "print(keuntunganDalamRupiah)\n",
    "print(keuntunganDalamPersen)"
   ]
  },
  {
   "cell_type": "code",
   "execution_count": null,
   "id": "333675f9-8430-48d1-9854-9578f8b98581",
   "metadata": {},
   "outputs": [],
   "source": []
  }
 ],
 "metadata": {
  "kernelspec": {
   "display_name": "Python 3 (ipykernel)",
   "language": "python",
   "name": "python3"
  },
  "language_info": {
   "codemirror_mode": {
    "name": "ipython",
    "version": 3
   },
   "file_extension": ".py",
   "mimetype": "text/x-python",
   "name": "python",
   "nbconvert_exporter": "python",
   "pygments_lexer": "ipython3",
   "version": "3.12.2"
  }
 },
 "nbformat": 4,
 "nbformat_minor": 5
}
