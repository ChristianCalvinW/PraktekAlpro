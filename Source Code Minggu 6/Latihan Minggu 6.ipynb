{
 "cells": [
  {
   "cell_type": "code",
   "execution_count": 1,
   "metadata": {},
   "outputs": [
    {
     "name": "stdout",
     "output_type": "stream",
     "text": [
      "Angka User: 21\n",
      "Angka Prima Terdekat: 19\n",
      "Angka User: 12\n",
      "Angka Prima Terdekat: 11\n",
      "Angka User: 10\n",
      "Angka Prima Terdekat: 7\n"
     ]
    }
   ],
   "source": [
    "#Latihan 6.1\n",
    "def primaTerdekat():\n",
    "    angkaUser = int(input(\"Masukkan Angka: \"))\n",
    "    print(f\"Angka User: {angkaUser}\")\n",
    "\n",
    "    angkaPrima = 0\n",
    "    for i in range(angkaUser-1, 0, -1):\n",
    "        angkaPrima = i\n",
    "        for j in range(2, int(angkaPrima/2 + 1)):\n",
    "            if angkaPrima % j == 0:\n",
    "                angkaPrima = 0\n",
    "                break\n",
    "            else:\n",
    "                continue\n",
    "        if angkaPrima != 0:\n",
    "            print(f\"Angka Prima Terdekat: {angkaPrima}\")\n",
    "            break\n",
    "        else:\n",
    "            continue\n",
    "\n",
    "\n",
    "primaTerdekat()\n",
    "primaTerdekat()\n",
    "primaTerdekat()"
   ]
  },
  {
   "cell_type": "code",
   "execution_count": 2,
   "metadata": {},
   "outputs": [
    {
     "name": "stdout",
     "output_type": "stream",
     "text": [
      "n = 6\n",
      "720 6 5 4 3 2 1 \n",
      "120 5 4 3 2 1 \n",
      "24 4 3 2 1 \n",
      "6 3 2 1 \n",
      "2 2 1 \n",
      "1 1 \n"
     ]
    }
   ],
   "source": [
    "#Latihan 6.2\n",
    "def deret():\n",
    "    n = int(input(\"Masukkan angka untuk n: \"))\n",
    "    print(f\"n = {n}\")\n",
    "\n",
    "    total = 1\n",
    "    for i in range(n, 0, -1):\n",
    "        for j in range(i, 0, -1):\n",
    "            total *= j\n",
    "        print(total, \"\", end=\"\")\n",
    "        total = 1\n",
    "        for j in range(i, 0, -1):\n",
    "            print(j, \"\", end=\"\")\n",
    "        print()\n",
    "\n",
    "deret()"
   ]
  },
  {
   "cell_type": "code",
   "execution_count": 3,
   "metadata": {},
   "outputs": [
    {
     "name": "stdout",
     "output_type": "stream",
     "text": [
      "Tinggi = 5\n",
      "Lebar = 4\n",
      "1 2 3 4 \n",
      "5 6 7 8 \n",
      "9 10 11 12 \n",
      "13 14 15 16 \n",
      "17 18 19 20 \n"
     ]
    }
   ],
   "source": [
    "#Latihan 6.3\n",
    "def tinggiLebar():\n",
    "    tinggi = int(input(\"Masukkan Tinggi: \"))\n",
    "    lebar = int(input(\"Masukkan Lebar: \"))\n",
    "\n",
    "    print(f\"Tinggi = {tinggi}\")\n",
    "    print(f\"Lebar = {lebar}\")\n",
    "\n",
    "    angkaSekarang = 1\n",
    "    for i in range(tinggi):\n",
    "        for j in range(lebar):\n",
    "            print(angkaSekarang, \"\", end=\"\")\n",
    "            angkaSekarang+=1\n",
    "        print()\n",
    "\n",
    "tinggiLebar()"
   ]
  }
 ],
 "metadata": {
  "kernelspec": {
   "display_name": "Python 3",
   "language": "python",
   "name": "python3"
  },
  "language_info": {
   "codemirror_mode": {
    "name": "ipython",
    "version": 3
   },
   "file_extension": ".py",
   "mimetype": "text/x-python",
   "name": "python",
   "nbconvert_exporter": "python",
   "pygments_lexer": "ipython3",
   "version": "3.12.2"
  }
 },
 "nbformat": 4,
 "nbformat_minor": 2
}
