{
 "cells": [
  {
   "cell_type": "code",
   "execution_count": 11,
   "metadata": {},
   "outputs": [
    {
     "name": "stdout",
     "output_type": "stream",
     "text": [
      "True\n",
      "True\n",
      "True\n"
     ]
    }
   ],
   "source": [
    "pernyataan1 = True\n",
    "pernyataan2 = True\n",
    "pernyataan3 = False\n",
    "\n",
    "print(pernyataan1 == True and pernyataan2 == True)\n",
    "print(pernyataan1 == True or pernyataan3 == True)\n",
    "print(pernyataan2 == True and not pernyataan3 == True)"
   ]
  },
  {
   "cell_type": "code",
   "execution_count": 12,
   "metadata": {},
   "outputs": [
    {
     "name": "stdout",
     "output_type": "stream",
     "text": [
      "A-\n",
      "B\n",
      "Remaja\n"
     ]
    }
   ],
   "source": [
    "# Conditional\n",
    "ipk = 3.5\n",
    "\n",
    "if ipk >= 3.5:\n",
    "    print(\"A-\")\n",
    "\n",
    "# Alternative Conditional\n",
    "nilai = 85\n",
    "\n",
    "if nilai >= 90:\n",
    "    print(\"A\")\n",
    "else:\n",
    "    print(\"B\")\n",
    "\n",
    "# Chained Conditional\n",
    "umur = 20\n",
    "\n",
    "if umur >= 25:\n",
    "    print(\"Dewasa\")\n",
    "elif umur >= 20:\n",
    "    print(\"Remaja\")\n",
    "else:\n",
    "    print(\"Anak - Anak\")"
   ]
  },
  {
   "cell_type": "code",
   "execution_count": 16,
   "metadata": {},
   "outputs": [
    {
     "name": "stdout",
     "output_type": "stream",
     "text": [
      "Input harus angka!\n"
     ]
    }
   ],
   "source": [
    "try:\n",
    "    umur = int(input(\"Masukkan Umur anda: \"))\n",
    "\n",
    "    if umur >= 25:\n",
    "        print(\"Dewasa\")\n",
    "    elif umur >= 20:\n",
    "        print(\"Remaja\")\n",
    "    else:\n",
    "        print(\"Anak - Anak\")\n",
    "except:\n",
    "    print(\"Input harus angka!\")"
   ]
  }
 ],
 "metadata": {
  "kernelspec": {
   "display_name": "Python 3",
   "language": "python",
   "name": "python3"
  },
  "language_info": {
   "codemirror_mode": {
    "name": "ipython",
    "version": 3
   },
   "file_extension": ".py",
   "mimetype": "text/x-python",
   "name": "python",
   "nbconvert_exporter": "python",
   "pygments_lexer": "ipython3",
   "version": "3.12.2"
  }
 },
 "nbformat": 4,
 "nbformat_minor": 2
}
