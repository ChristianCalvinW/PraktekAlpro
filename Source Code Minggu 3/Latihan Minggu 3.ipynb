{
 "cells": [
  {
   "cell_type": "code",
   "execution_count": null,
   "metadata": {},
   "outputs": [],
   "source": [
    "# Latihan 3.1"
   ]
  },
  {
   "cell_type": "code",
   "execution_count": 3,
   "metadata": {},
   "outputs": [
    {
     "name": "stdout",
     "output_type": "stream",
     "text": [
      "Masukkan Suhu dalam Format Angka!\n"
     ]
    }
   ],
   "source": [
    "# Contoh Gambar 3.1\n",
    "try:\n",
    "    suhu = int(input(\"Masukkan Suhu Tubuh Anda: \"))\n",
    "\n",
    "    if suhu >= 38:\n",
    "        print(\"Anda Demam\")\n",
    "    else:\n",
    "        print(\"Anda Tidak Demam\")\n",
    "except:\n",
    "    print(\"Masukkan Suhu dalam Format Angka!\")"
   ]
  },
  {
   "cell_type": "code",
   "execution_count": 7,
   "metadata": {},
   "outputs": [
    {
     "name": "stdout",
     "output_type": "stream",
     "text": [
      "Masukkan bilangan dalam format Angka!\n"
     ]
    }
   ],
   "source": [
    "# Contoh Gambar 3.2\n",
    "try:\n",
    "    bilangan = int(input(\"Masukkan bilangan anda: \"))\n",
    "    if bilangan > 0:\n",
    "        print(\"Positif\")\n",
    "    elif bilangan < 0:\n",
    "        print(\"Negatif\")\n",
    "    else:\n",
    "        print(\"Nol\")\n",
    "except:\n",
    "    print(\"Masukkan bilangan dalam format Angka!\")"
   ]
  },
  {
   "cell_type": "code",
   "execution_count": 12,
   "metadata": {},
   "outputs": [
    {
     "name": "stdout",
     "output_type": "stream",
     "text": [
      "Masukkan bilangan dalam format angka!\n"
     ]
    }
   ],
   "source": [
    "# Contoh Gambar 3.3\n",
    "try:\n",
    "    a = int(input(\"Masukkan bilangan pertama: \"))\n",
    "    b = int(input(\"Masukkan bilangan kedua: \"))\n",
    "    c = int(input(\"Masukkan bilangan ketiga: \"))\n",
    "\n",
    "    if a > b and a > c:\n",
    "        print(\"Terbesar: \", a)\n",
    "    elif b > a and b > c:\n",
    "        print(\"Terbesar: \", b)\n",
    "    elif c > a and c > b:\n",
    "        print(\"Terbesar: \", c)\n",
    "except:\n",
    "    print(\"Masukkan bilangan dalam format angka!\")"
   ]
  },
  {
   "cell_type": "code",
   "execution_count": null,
   "metadata": {},
   "outputs": [],
   "source": [
    "# Latihan 3.2"
   ]
  },
  {
   "cell_type": "code",
   "execution_count": 16,
   "metadata": {},
   "outputs": [
    {
     "name": "stdout",
     "output_type": "stream",
     "text": [
      "NOl\n"
     ]
    }
   ],
   "source": [
    "bilangan = int(input(\"Masukkan bilangan: \"))\n",
    "hasil = print(\"Positif\") if bilangan > 0 else(print(\"Negatif\") if bilangan < 0 else print(\"NOl\"))"
   ]
  },
  {
   "cell_type": "code",
   "execution_count": null,
   "metadata": {},
   "outputs": [],
   "source": [
    "# Latihan 3.3"
   ]
  },
  {
   "cell_type": "code",
   "execution_count": 19,
   "metadata": {},
   "outputs": [
    {
     "name": "stdout",
     "output_type": "stream",
     "text": [
      "Bulan tidak valid!\n"
     ]
    }
   ],
   "source": [
    "try:\n",
    "    bulan = int(input(\"Masukkan Bulan (1-12): \"))\n",
    "\n",
    "    if bulan == 1:\n",
    "        print(\"Jumlah Hari: 31\")\n",
    "    elif bulan == 2:\n",
    "        print(\"Jumlah Hari: 28 atau 29\")\n",
    "    elif bulan == 3:\n",
    "        print(\"Jumlah Hari: 31\")\n",
    "    elif bulan == 4:\n",
    "        print(\"Jumlah Hari: 30\")\n",
    "    elif bulan == 5:\n",
    "        print(\"Jumlah Hari: 31\")\n",
    "    elif bulan == 6:\n",
    "        print(\"Jumlah Hari: 30\")\n",
    "    elif bulan == 7:\n",
    "        print(\"Jumlah Hari: 31\")\n",
    "    elif bulan == 8:\n",
    "        print(\"Jumlah Hari: 31\")\n",
    "    elif bulan == 9:\n",
    "        print(\"Jumlah Hari: 30\")\n",
    "    elif bulan == 10:\n",
    "        print(\"Jumlah Hari: 31\")\n",
    "    elif bulan == 11:\n",
    "        print(\"Jumlah Hari: 30\")\n",
    "    elif bulan == 12:\n",
    "        print(\"Jumlah Hari: 31\")\n",
    "except:\n",
    "    print(\"Bulan tidak valid!\")"
   ]
  },
  {
   "cell_type": "code",
   "execution_count": null,
   "metadata": {},
   "outputs": [],
   "source": [
    "# Latihan 3.4"
   ]
  },
  {
   "cell_type": "code",
   "execution_count": 28,
   "metadata": {},
   "outputs": [
    {
     "name": "stdout",
     "output_type": "stream",
     "text": [
      "Input tidak valid!\n"
     ]
    }
   ],
   "source": [
    "try:\n",
    "    bilangan1 = int(input(\"Masukkan bilangan pertama: \"))\n",
    "    bilangan2 = int(input(\"Masukkan bilangan kedua: \"))\n",
    "    bilangan3 = int(input(\"Masukkan bilangan ketiga: \"))\n",
    "\n",
    "    if (bilangan1 == bilangan2 and bilangan1 == bilangan3):\n",
    "        print(\"3 sisi sama\")\n",
    "    elif (bilangan1 == bilangan2) or (bilangan1 == bilangan3) or (bilangan2 == bilangan3):\n",
    "        print(\"2 sisi sama\")\n",
    "    else:\n",
    "        print(\"Tidak ada yang sama\")\n",
    "except:\n",
    "    print(\"Input tidak valid!\")"
   ]
  }
 ],
 "metadata": {
  "kernelspec": {
   "display_name": "Python 3",
   "language": "python",
   "name": "python3"
  },
  "language_info": {
   "codemirror_mode": {
    "name": "ipython",
    "version": 3
   },
   "file_extension": ".py",
   "mimetype": "text/x-python",
   "name": "python",
   "nbconvert_exporter": "python",
   "pygments_lexer": "ipython3",
   "version": "3.12.2"
  }
 },
 "nbformat": 4,
 "nbformat_minor": 2
}
