{
 "cells": [
  {
   "cell_type": "code",
   "execution_count": 1,
   "metadata": {},
   "outputs": [
    {
     "name": "stdout",
     "output_type": "stream",
     "text": [
      "17-08-1945 28778 hari\n",
      "11-11-1785 87130 hari\n",
      "08-06-1783 88017 hari\n",
      "02-05-1889 49338 hari\n"
     ]
    }
   ],
   "source": [
    "# Latihan 14.1\n",
    "import re\n",
    "from datetime import datetime\n",
    "def tanggal(teks):\n",
    "    tanggal_tanggal = re.findall(r\"\\d{4}-\\d{2}-\\d{2}\", teks)\n",
    "    tanggal_hari_ini = \"2024-06-01\"\n",
    "    for i in range(len(tanggal_tanggal)):\n",
    "        tanggal1 = datetime.strptime(tanggal_tanggal[i], \"%Y-%m-%d\")\n",
    "        tanggal2 = datetime.strptime(tanggal_hari_ini, \"%Y-%m-%d\")\n",
    "\n",
    "        selisih = tanggal2 - tanggal1\n",
    "        total_hari = selisih.days\n",
    "        tanggal_tanggal[i] = tanggal_tanggal[i].split(\"-\")\n",
    "        print(f\"{tanggal_tanggal[i][2]}-\",  end=\"\")\n",
    "        print(f\"{tanggal_tanggal[i][1]}-\",  end=\"\")\n",
    "        print(f\"{tanggal_tanggal[i][0]} \", end=\"\")\n",
    "        print(f\"{total_hari} hari\")\n",
    "\n",
    "\n",
    "tanggal(\"Pada tanggal 1945-08-17 Indonesia merdeka. Indonesia memiliki beberapa pahlawan, nasional, seperti Pangeran Diponegoro (TL: 1785-11-11) Pattimura (TL: 1783-06-08) dan Ki Hajar Dewantara (1889-05-02)\")"
   ]
  },
  {
   "cell_type": "code",
   "execution_count": null,
   "metadata": {},
   "outputs": [],
   "source": []
  }
 ],
 "metadata": {
  "kernelspec": {
   "display_name": "Python 3",
   "language": "python",
   "name": "python3"
  },
  "language_info": {
   "codemirror_mode": {
    "name": "ipython",
    "version": 3
   },
   "file_extension": ".py",
   "mimetype": "text/x-python",
   "name": "python",
   "nbconvert_exporter": "python",
   "pygments_lexer": "ipython3",
   "version": "3.12.2"
  }
 },
 "nbformat": 4,
 "nbformat_minor": 2
}
