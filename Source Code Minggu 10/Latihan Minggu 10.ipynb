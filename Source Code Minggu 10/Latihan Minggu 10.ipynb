{
 "cells": [
  {
   "cell_type": "code",
   "execution_count": 1,
   "metadata": {},
   "outputs": [
    {
     "name": "stdout",
     "output_type": "stream",
     "text": [
      "[10, 50, 70, 80, 80, 90, 100]\n",
      "Nilai Tertinggi Pertama: 100\n",
      "Nilai Tertinggi Kedua: 90\n",
      "Nilai Tertinggi Ketiga: 80\n"
     ]
    }
   ],
   "source": [
    "#Latihan 9.1\n",
    "nilai = [10, 90, 50, 80, 70, 80, 100]\n",
    "nilai.sort()\n",
    "print(nilai)\n",
    "print(f\"Nilai Tertinggi Pertama: {nilai[-1]}\")\n",
    "print(f\"Nilai Tertinggi Kedua: {nilai[-2]}\")\n",
    "print(f\"Nilai Tertinggi Ketiga: {nilai[-3]}\")"
   ]
  },
  {
   "cell_type": "code",
   "execution_count": 2,
   "metadata": {},
   "outputs": [
    {
     "name": "stdout",
     "output_type": "stream",
     "text": [
      "Angka yang dimasukkan user: 50\n",
      "Angka yang dimasukkan user: 20\n",
      "Angka yang dimasukkan user: 30\n",
      "Angka yang dimasukkan user: 40\n",
      "Angka yang dimasukkan user: 10\n",
      "Angka yang dimasukkan user: done\n",
      "[50, 20, 30, 40, 10]\n",
      "Nilai Terbesar: 50\n",
      "Nilai Terkecil: 10\n"
     ]
    }
   ],
   "source": [
    "#Latihan 9.2\n",
    "listUser = []\n",
    "while True:\n",
    "    userInput = input(\"Masukkan Angka: \")\n",
    "    print(f\"Angka yang dimasukkan user: {userInput}\")\n",
    "    if userInput.isdigit():\n",
    "        userInput = int(userInput)\n",
    "        listUser.append(userInput)\n",
    "        continue\n",
    "    else:\n",
    "        userInput.lower()\n",
    "        if userInput == \"done\":\n",
    "            print(listUser)\n",
    "            print(f\"Nilai Terbesar: {max(listUser)}\")\n",
    "            print(f\"Nilai Terkecil: {min(listUser)}\")\n",
    "            break\n",
    "        else:\n",
    "            continue"
   ]
  },
  {
   "cell_type": "code",
   "execution_count": 3,
   "metadata": {},
   "outputs": [
    {
     "name": "stdout",
     "output_type": "stream",
     "text": [
      "======= Artikel Berita =======\n",
      "Kecelakaan kembali terjadi di ruas tol Cipali tepatnya pada malam hari, 4 Maret 2015. Kecelakaan ini dialami sebuah mobil mewah yang dikendarai seorang anak muda bernama Agus.\n",
      "\n",
      "Penyebab utama kecelakaan mobil ini karena sang pengemudi berkendara dengan kecepatan di atas 120 km/jam. Saat sedang melaju dengan kecepatan tinggi, pengemudi tiba-tiba tidak bisa mengendalikan mobilnya karena rem yang blong.\n",
      "\n",
      "Akibatnya, mobil Ferrari bernomor polisi B 3641 AH itu menabrak pembatas jalan. Untungnya sang pengemudi dapat segera diselamatkan dan langsung dibawa ke rumah sakit terdekat untuk mendapatkan perawatan medis.\n",
      "\n",
      "======= Kata Unik Pada Berita =======\n",
      "['Kecelakaan', 'kembali', 'terjadi', 'di', 'ruas', 'tol', 'Cipali', 'tepatnya', 'pada', 'malam', 'hari,', '4', 'Maret', '2015.', 'ini', 'dialami', 'sebuah', 'mobil', 'mewah', 'yang', 'dikendarai', 'seorang', 'anak', 'muda', 'bernama', 'Agus.', 'Penyebab', 'utama', 'kecelakaan', 'karena', 'sang', 'pengemudi', 'berkendara', 'dengan', 'kecepatan', 'atas', '120', 'km/jam.', 'Saat', 'sedang', 'melaju', 'tinggi,', 'tiba-tiba', 'tidak', 'bisa', 'mengendalikan', 'mobilnya', 'rem', 'blong.', 'Akibatnya,', 'Ferrari', 'bernomor', 'polisi', 'B', '3641', 'AH', 'itu', 'menabrak', 'pembatas', 'jalan.', 'Untungnya', 'dapat', 'segera', 'diselamatkan', 'dan', 'langsung', 'dibawa', 'ke', 'rumah', 'sakit', 'terdekat', 'untuk', 'mendapatkan', 'perawatan', 'medis.']\n"
     ]
    }
   ],
   "source": [
    "#Latihan 9.3\n",
    "handle = open(\"artikel.txt\")\n",
    "print(\"======= Artikel Berita =======\")\n",
    "\n",
    "kataUnik = []\n",
    "for line in handle:\n",
    "    line = line.strip()\n",
    "    print(line)\n",
    "    line = line.split()\n",
    "    for i in range(len(line)):\n",
    "        if line[i] not in kataUnik:\n",
    "            kataUnik.append(line[i])\n",
    "        else:\n",
    "            continue\n",
    "\n",
    "print()\n",
    "print(\"======= Kata Unik Pada Berita =======\")\n",
    "print(kataUnik)"
   ]
  }
 ],
 "metadata": {
  "kernelspec": {
   "display_name": "Python 3",
   "language": "python",
   "name": "python3"
  },
  "language_info": {
   "codemirror_mode": {
    "name": "ipython",
    "version": 3
   },
   "file_extension": ".py",
   "mimetype": "text/x-python",
   "name": "python",
   "nbconvert_exporter": "python",
   "pygments_lexer": "ipython3",
   "version": "3.12.2"
  }
 },
 "nbformat": 4,
 "nbformat_minor": 2
}
